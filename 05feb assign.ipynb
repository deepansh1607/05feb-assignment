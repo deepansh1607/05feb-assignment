{
 "cells": [
  {
   "cell_type": "code",
   "execution_count": null,
   "id": "2aec7407-3a94-44a5-ad50-9da9f3cb4f32",
   "metadata": {},
   "outputs": [],
   "source": [
    "Q1. Explain Class and Object with respect to Object-Oriented Programming. Give a suitable example.\n",
    "\n",
    "ans:  In Object-Oriented Programming (OOP), the concepts of \"Class\" and \"Object\" are fundamental building blocks that help organize and structure code. Let’s break them down:\n",
    "\n",
    "Class\n",
    "A Class is a blueprint or a template for creating objects. It defines a set of attributes (data) and methods (functions) that its objects will have. Essentially, a class specifies what an object will be and what it will be able to do.\n",
    "\n",
    "Attributes: These are the data members or properties of the class.\n",
    "Methods: These are the functions or procedures defined within the class that describe the behavior of the objects.\n",
    "Object\n",
    "An Object is an instance of a class. When you create an object, you are creating a specific realization of the class with its own set of values for the attributes. Each object can hold different data but shares the same structure and behavior as defined by its class.\n",
    "\n",
    "Example\n",
    "Let’s consider a simple example involving a class called Car.\n",
    "\n",
    "python\n",
    "Copy code\n",
    "class Car:\n",
    "    # Constructor method to initialize an object\n",
    "    def __init__(self, make, model, year):\n",
    "        self.make = make\n",
    "        self.model = model\n",
    "        self.year = year\n",
    "    \n",
    "    # Method to display car details\n",
    "    def display_info(self):\n",
    "        print(f\"{self.year} {self.make} {self.model}\")\n",
    "\n",
    "# Creating objects of the Car class\n",
    "car1 = Car(\"Toyota\", \"Corolla\", 2020)\n",
    "car2 = Car(\"Honda\", \"Civic\", 2021)\n",
    "\n",
    "# Calling methods on the objects\n",
    "car1.display_info()  # Output: 2020 Toyota Corolla\n",
    "car2.display_info()  # Output: 2021 Honda Civic"
   ]
  },
  {
   "cell_type": "code",
   "execution_count": null,
   "id": "f420eaf5-3098-4937-93f2-5492233183ea",
   "metadata": {},
   "outputs": [],
   "source": [
    "Q2. Name the four pillars of OOPs.\n",
    "\n",
    "ans: Encapsulation, Abstraction,polymorphism,Inheritance"
   ]
  },
  {
   "cell_type": "code",
   "execution_count": null,
   "id": "cd01805b-e4a6-42c8-a4a4-a8ece696ef8f",
   "metadata": {},
   "outputs": [],
   "source": [
    "Q3. Explain why the __init__() function is used. Give a suitable example.\n",
    "\n",
    "Ans:  In Python, the __init__() function is a special method used to initialize newly created objects. It is often referred to as the \"constructor\" of a class. The __init__() method is called automatically when a new instance of a class is created. Its primary purpose is to set up the initial state of an object by assigning values to the object’s attributes.\n",
    "\n",
    "Purpose of __init__()\n",
    "Initialization: It allows for the initialization of an object’s attributes with specific values when the object is created.\n",
    "Default Values: It can provide default values for attributes if none are provided.\n",
    "Input Parameters: It can accept parameters to customize the initialization of an object."
   ]
  },
  {
   "cell_type": "code",
   "execution_count": null,
   "id": "83e44ae3-12ea-43bb-82e1-191535d1f34b",
   "metadata": {},
   "outputs": [],
   "source": [
    "Q4. Why self is used in OOPs?\n",
    "\n",
    "Ans: In Object-Oriented Programming (OOP), the self keyword is used to refer to the instance of the class itself. It is a fundamental concept in Python and many other object-oriented languages, though the exact syntax may vary. Here’s why self is important and how it is used:\n",
    "\n",
    "Purpose of self\n",
    "Accessing Instance Attributes and Methods:\n",
    "\n",
    "self allows instance methods to access and modify the object's attributes and call other methods on the same object. It acts as a reference to the current instance of the class.\n",
    "Distinguishing Between Instance and Local Variables:\n",
    "\n",
    "Within a method, you may have local variables with the same names as instance attributes. Using self helps to differentiate between instance attributes and local variables.\n",
    "Method Calls:\n",
    "\n",
    "When you call an instance method from within the class, self is used to pass the instance to the method. This is implicitly handled by Python, but it’s crucial to include self as the first parameter in method definitions."
   ]
  },
  {
   "cell_type": "code",
   "execution_count": null,
   "id": "9b62b712-14a1-49d0-bf54-d4e1505321e4",
   "metadata": {},
   "outputs": [],
   "source": []
  }
 ],
 "metadata": {
  "kernelspec": {
   "display_name": "Python 3 (ipykernel)",
   "language": "python",
   "name": "python3"
  },
  "language_info": {
   "codemirror_mode": {
    "name": "ipython",
    "version": 3
   },
   "file_extension": ".py",
   "mimetype": "text/x-python",
   "name": "python",
   "nbconvert_exporter": "python",
   "pygments_lexer": "ipython3",
   "version": "3.10.8"
  }
 },
 "nbformat": 4,
 "nbformat_minor": 5
}
